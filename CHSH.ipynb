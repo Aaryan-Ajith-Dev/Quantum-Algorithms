{
 "cells": [
  {
   "cell_type": "markdown",
   "metadata": {},
   "source": [
    "## Verification of the probablities of winning in the CHSH game\n",
    "\n",
    "### About the game:\n",
    "<ul>\n",
    "    <li> It consists of 2 players and 1 ref.</li>\n",
    "    <li> The 2 players have an entangled pair in common</li>\n",
    "    <li> The ref. gives each of them a bit {x and y}.</li>\n",
    "    <li> The players need to output 2 bits {a and b} such that a xor b = x & y </li>\n",
    "</ul>"
   ]
  },
  {
   "cell_type": "markdown",
   "metadata": {},
   "source": [
    "### The code:"
   ]
  },
  {
   "cell_type": "code",
   "execution_count": 20,
   "metadata": {},
   "outputs": [
    {
     "name": "stdout",
     "output_type": "stream",
     "text": [
      "Fraction of games won: 0.85\n"
     ]
    }
   ],
   "source": [
    "from qiskit import QuantumCircuit\n",
    "from qiskit_aer.primitives import Sampler\n",
    "from qiskit.quantum_info import SparsePauliOp\n",
    "from random import randint\n",
    "from math import pi\n",
    "\n",
    "sampler = Sampler()\n",
    "\n",
    "n = 1000    # number of games\n",
    "score = 0   # total score\n",
    "\n",
    "def strat(x, y):\n",
    "    qc = QuantumCircuit(2, 2)\n",
    "    qc.h(0)\n",
    "    qc.cx(0, 1)\n",
    "    if x == 0:\n",
    "        qc.ry(0, 0)\n",
    "    else:\n",
    "        qc.ry(pi/2, 0)\n",
    "    qc.measure(0, 0)\n",
    "\n",
    "    if y == 0:\n",
    "        qc.ry(pi/4, 1)    # rotates by pi/8 counterclockwise\n",
    "    else:\n",
    "        qc.ry(-pi/4, 1)\n",
    "    qc.measure(1, 1)\n",
    "    result = sampler.run(qc, shots=1).result()\n",
    "    # print(result)\n",
    "    stats = result.quasi_dists[0].binary_probabilities()\n",
    "    # print(\"Input x, y:\",x,y,statistics)\n",
    "    bits = list(stats.keys())[0]\n",
    "    a, b = bits[0], bits[1]\n",
    "    return a, b\n",
    "\n",
    "\n",
    "\n",
    "for _ in range(n):\n",
    "    x, y = randint(0, 1), randint(0, 1) # choose the bits for x and y randomly\n",
    "\n",
    "    a, b = strat(x, y)\n",
    "\n",
    "    if (a != b) == (x & y):\n",
    "        score+=1\n",
    "\n",
    "# theoritical probability is close to 0.85\n",
    "print(\"Fraction of games won:\", score / n)\n",
    "\n"
   ]
  }
 ],
 "metadata": {
  "kernelspec": {
   "display_name": "env",
   "language": "python",
   "name": "python3"
  },
  "language_info": {
   "codemirror_mode": {
    "name": "ipython",
    "version": 3
   },
   "file_extension": ".py",
   "mimetype": "text/x-python",
   "name": "python",
   "nbconvert_exporter": "python",
   "pygments_lexer": "ipython3",
   "version": "3.11.6"
  }
 },
 "nbformat": 4,
 "nbformat_minor": 2
}
