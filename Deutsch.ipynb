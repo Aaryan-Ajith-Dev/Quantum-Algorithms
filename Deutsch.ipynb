{
 "cells": [
  {
   "cell_type": "markdown",
   "metadata": {},
   "source": [
    "## Deutsch's Query Algorithm\n",
    "\n",
    "### Input: A function `f` from `S -> S` where `S = {0, 1}`\n",
    "\n",
    "### Output: A single bit denoting the whether `f` is constant or balanced (ie no. of 0s  = no. of 1s in the `range(f)`)"
   ]
  },
  {
   "cell_type": "code",
   "execution_count": 12,
   "metadata": {},
   "outputs": [
    {
     "name": "stdout",
     "output_type": "stream",
     "text": [
      "Answer: 1\n"
     ]
    },
    {
     "data": {
      "image/png": "[encoded data removed]",
      "text/plain": [
       "<Figure size 621.739x284.278 with 1 Axes>"
      ]
     },
     "execution_count": 12,
     "metadata": {},
     "output_type": "execute_result"
    }
   ],
   "source": [
    "from qiskit import QuantumCircuit\n",
    "import qiskit.quantum_info as qi\n",
    "from qiskit_aer.primitives import Sampler\n",
    "import numpy as np\n",
    "\n",
    "\n",
    "\n",
    "sampler = Sampler()\n",
    "# function:\n",
    "# if the function is constant the output is 0, else if it is balanced 1\n",
    "f = [1, 0]\n",
    "\n",
    "basis = [[1,0,0,0], [0,1,0,0], [0,0,1,0], [0,0,0,1]]\n",
    "\n",
    "matrix = [basis[2*f[0]], basis[2*f[1] + 1], basis[2*(1 - f[0])], basis[2*(1 - f[1]) + 1]]\n",
    "# linear transformation corresponding to the query\n",
    "\n",
    "op_f = qi.Operator( np.transpose(np.array(matrix)) )\n",
    "\n",
    "qc = QuantumCircuit(2, 1)\n",
    "# default all initialized to 0 state\n",
    "# preparing the second qbit in the 1 state\n",
    "qc.x(1)\n",
    "\n",
    "qc.h(0)\n",
    "qc.h(1) # setting up a '-' state\n",
    "\n",
    "qc.unitary(op_f, [0, 1])\n",
    "\n",
    "qc.h(0)\n",
    "\n",
    "qc.measure(0, 0)\n",
    "result = sampler.run(qc, shots=1).result()\n",
    "# print(result)\n",
    "statistics = result.quasi_dists[0].binary_probabilities()\n",
    "# print(statistics)\n",
    "bits = list(statistics.keys())[0]\n",
    "print(\"Answer:\",bits)\n",
    "qc.draw(\"mpl\")\n",
    "\n",
    "\n"
   ]
  }
 ],
 "metadata": {
  "kernelspec": {
   "display_name": "env",
   "language": "python",
   "name": "python3"
  },
  "language_info": {
   "codemirror_mode": {
    "name": "ipython",
    "version": 3
   },
   "file_extension": ".py",
   "mimetype": "text/x-python",
   "name": "python",
   "nbconvert_exporter": "python",
   "pygments_lexer": "ipython3",
   "version": "3.11.6"
  }
 },
 "nbformat": 4,
 "nbformat_minor": 2
}
